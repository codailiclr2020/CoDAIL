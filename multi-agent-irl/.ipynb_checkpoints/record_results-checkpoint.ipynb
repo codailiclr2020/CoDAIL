{
 "cells": [
  {
   "cell_type": "code",
   "execution_count": 24,
   "metadata": {},
   "outputs": [
    {
     "ename": "ModuleNotFoundError",
     "evalue": "No module named 'matplotlib.plot'",
     "output_type": "error",
     "traceback": [
      "\u001b[0;31m---------------------------------------------------------------------------\u001b[0m",
      "\u001b[0;31mModuleNotFoundError\u001b[0m                       Traceback (most recent call last)",
      "\u001b[0;32m<ipython-input-24-fdaaaf066758>\u001b[0m in \u001b[0;36m<module>\u001b[0;34m\u001b[0m\n\u001b[1;32m      1\u001b[0m \u001b[0;32mimport\u001b[0m \u001b[0mnumpy\u001b[0m \u001b[0;32mas\u001b[0m \u001b[0mnp\u001b[0m\u001b[0;34m\u001b[0m\u001b[0m\n\u001b[1;32m      2\u001b[0m \u001b[0;32mimport\u001b[0m \u001b[0mpandas\u001b[0m \u001b[0;32mas\u001b[0m \u001b[0mpd\u001b[0m\u001b[0;34m\u001b[0m\u001b[0m\n\u001b[0;32m----> 3\u001b[0;31m \u001b[0;32mimport\u001b[0m \u001b[0mmatplotlib\u001b[0m\u001b[0;34m.\u001b[0m\u001b[0mplot\u001b[0m \u001b[0;32mas\u001b[0m \u001b[0mplt\u001b[0m\u001b[0;34m\u001b[0m\u001b[0m\n\u001b[0m",
      "\u001b[0;31mModuleNotFoundError\u001b[0m: No module named 'matplotlib.plot'"
     ]
    }
   ],
   "source": [
    "import numpy as np\n",
    "import pandas as pd\n",
    "import matplotlib.plot as plt"
   ]
  },
  {
   "cell_type": "markdown",
   "metadata": {},
   "source": [
    "# hyper - d-g"
   ]
  },
  {
   "cell_type": "code",
   "execution_count": 17,
   "metadata": {},
   "outputs": [],
   "source": [
    "env_name = 'simple_spread'\n",
    "traj_limitation = 200\n",
    "epoch = 51000\n",
    "df = pd.DataFrame()\n",
    "frames = []\n",
    "\n",
    "dg = [(1,2),(1,4),(2,1),(4,1)]\n",
    "ent_coef = 0.0\n",
    "for (d,g) in dg:\n",
    "    data = pd.read_csv('./hyper_result_'+env_name+'_'+str(traj_limitation)+'_'+str(epoch)+'_'+str(d)+'-'+str(g)+'-'+str(ent_coef)+'.csv')\n",
    "    data.mean_sum_reward *= 3\n",
    "    frames.append(data)\n",
    "df = pd.concat(frames)"
   ]
  },
  {
   "cell_type": "code",
   "execution_count": 18,
   "metadata": {},
   "outputs": [
    {
     "data": {
      "text/html": [
       "<div>\n",
       "<style scoped>\n",
       "    .dataframe tbody tr th:only-of-type {\n",
       "        vertical-align: middle;\n",
       "    }\n",
       "\n",
       "    .dataframe tbody tr th {\n",
       "        vertical-align: top;\n",
       "    }\n",
       "\n",
       "    .dataframe thead th {\n",
       "        text-align: right;\n",
       "    }\n",
       "</style>\n",
       "<table border=\"1\" class=\"dataframe\">\n",
       "  <thead>\n",
       "    <tr style=\"text-align: right;\">\n",
       "      <th></th>\n",
       "      <th>env_name</th>\n",
       "      <th>algo</th>\n",
       "      <th>seed</th>\n",
       "      <th>epoch</th>\n",
       "      <th>traj_limitation</th>\n",
       "      <th>d</th>\n",
       "      <th>g</th>\n",
       "      <th>ent_coef</th>\n",
       "      <th>mean_sum_reward</th>\n",
       "      <th>agent0</th>\n",
       "      <th>agent1</th>\n",
       "      <th>agent2</th>\n",
       "    </tr>\n",
       "  </thead>\n",
       "  <tbody>\n",
       "    <tr>\n",
       "      <th>0</th>\n",
       "      <td>simple_spread</td>\n",
       "      <td>dgail_om</td>\n",
       "      <td>1</td>\n",
       "      <td>51000</td>\n",
       "      <td>200</td>\n",
       "      <td>4</td>\n",
       "      <td>1</td>\n",
       "      <td>0.0</td>\n",
       "      <td>-1431.993978</td>\n",
       "      <td>-477.331326</td>\n",
       "      <td>-477.331326</td>\n",
       "      <td>-477.331326</td>\n",
       "    </tr>\n",
       "    <tr>\n",
       "      <th>1</th>\n",
       "      <td>simple_spread</td>\n",
       "      <td>dgail_om</td>\n",
       "      <td>2</td>\n",
       "      <td>51000</td>\n",
       "      <td>200</td>\n",
       "      <td>4</td>\n",
       "      <td>1</td>\n",
       "      <td>0.0</td>\n",
       "      <td>-3515.843483</td>\n",
       "      <td>-1171.947828</td>\n",
       "      <td>-1171.947828</td>\n",
       "      <td>-1171.947828</td>\n",
       "    </tr>\n",
       "    <tr>\n",
       "      <th>2</th>\n",
       "      <td>simple_spread</td>\n",
       "      <td>dgail_om</td>\n",
       "      <td>3</td>\n",
       "      <td>51000</td>\n",
       "      <td>200</td>\n",
       "      <td>4</td>\n",
       "      <td>1</td>\n",
       "      <td>0.0</td>\n",
       "      <td>-4604.625448</td>\n",
       "      <td>-1534.875149</td>\n",
       "      <td>-1534.875149</td>\n",
       "      <td>-1534.875149</td>\n",
       "    </tr>\n",
       "    <tr>\n",
       "      <th>3</th>\n",
       "      <td>simple_spread</td>\n",
       "      <td>dgail_om</td>\n",
       "      <td>4</td>\n",
       "      <td>51000</td>\n",
       "      <td>200</td>\n",
       "      <td>4</td>\n",
       "      <td>1</td>\n",
       "      <td>0.0</td>\n",
       "      <td>-2140.649893</td>\n",
       "      <td>-713.549964</td>\n",
       "      <td>-713.549964</td>\n",
       "      <td>-713.549964</td>\n",
       "    </tr>\n",
       "    <tr>\n",
       "      <th>4</th>\n",
       "      <td>simple_spread</td>\n",
       "      <td>dgail_om</td>\n",
       "      <td>5</td>\n",
       "      <td>51000</td>\n",
       "      <td>200</td>\n",
       "      <td>4</td>\n",
       "      <td>1</td>\n",
       "      <td>0.0</td>\n",
       "      <td>-4786.894474</td>\n",
       "      <td>-1595.631491</td>\n",
       "      <td>-1595.631491</td>\n",
       "      <td>-1595.631491</td>\n",
       "    </tr>\n",
       "  </tbody>\n",
       "</table>\n",
       "</div>"
      ],
      "text/plain": [
       "        env_name      algo  seed  epoch  traj_limitation  d  g  ent_coef  \\\n",
       "0  simple_spread  dgail_om     1  51000              200  4  1       0.0   \n",
       "1  simple_spread  dgail_om     2  51000              200  4  1       0.0   \n",
       "2  simple_spread  dgail_om     3  51000              200  4  1       0.0   \n",
       "3  simple_spread  dgail_om     4  51000              200  4  1       0.0   \n",
       "4  simple_spread  dgail_om     5  51000              200  4  1       0.0   \n",
       "\n",
       "   mean_sum_reward       agent0       agent1       agent2  \n",
       "0     -1431.993978  -477.331326  -477.331326  -477.331326  \n",
       "1     -3515.843483 -1171.947828 -1171.947828 -1171.947828  \n",
       "2     -4604.625448 -1534.875149 -1534.875149 -1534.875149  \n",
       "3     -2140.649893  -713.549964  -713.549964  -713.549964  \n",
       "4     -4786.894474 -1595.631491 -1595.631491 -1595.631491  "
      ]
     },
     "execution_count": 18,
     "metadata": {},
     "output_type": "execute_result"
    }
   ],
   "source": [
    "df[(df.d==d) & (df.g==g)]"
   ]
  },
  {
   "cell_type": "code",
   "execution_count": 19,
   "metadata": {},
   "outputs": [],
   "source": [
    "mean = []\n",
    "std = []\n",
    "for (d,g) in dg:\n",
    "    mean.append(df[(df.d==d) & (df.g==g)].mean_sum_reward.mean())\n",
    "    std.append(df[(df.d==d) & (df.g==g)].mean_sum_reward.std())"
   ]
  },
  {
   "cell_type": "code",
   "execution_count": 21,
   "metadata": {},
   "outputs": [
    {
     "data": {
      "text/plain": [
       "[1314.7980649155525, 506.2462279634566, 1705.7484120109239, 1482.6454710931087]"
      ]
     },
     "execution_count": 21,
     "metadata": {},
     "output_type": "execute_result"
    }
   ],
   "source": [
    "std"
   ]
  },
  {
   "cell_type": "code",
   "execution_count": null,
   "metadata": {},
   "outputs": [],
   "source": []
  }
 ],
 "metadata": {
  "kernelspec": {
   "display_name": "Python ml",
   "language": "python",
   "name": "ml"
  },
  "language_info": {
   "codemirror_mode": {
    "name": "ipython",
    "version": 3
   },
   "file_extension": ".py",
   "mimetype": "text/x-python",
   "name": "python",
   "nbconvert_exporter": "python",
   "pygments_lexer": "ipython3",
   "version": "3.6.2"
  }
 },
 "nbformat": 4,
 "nbformat_minor": 2
}
